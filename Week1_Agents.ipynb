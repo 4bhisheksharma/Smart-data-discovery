{
  "cells": [
    {
      "cell_type": "markdown",
      "metadata": {
        "id": "view-in-github",
        "colab_type": "text"
      },
      "source": [
        "<a href=\"https://colab.research.google.com/github/4bhisheksharma/Smart-data-discovery/blob/main/Week1_Agents.ipynb\" target=\"_parent\"><img src=\"https://colab.research.google.com/assets/colab-badge.svg\" alt=\"Open In Colab\"/></a>"
      ]
    },
    {
      "cell_type": "markdown",
      "id": "a15cc26b-ff7f-4dee-832d-3fa5eeac90cb",
      "metadata": {
        "id": "a15cc26b-ff7f-4dee-832d-3fa5eeac90cb"
      },
      "source": [
        "# Reflex Agent"
      ]
    },
    {
      "cell_type": "code",
      "execution_count": 1,
      "id": "44a6e782-b601-4fdd-be99-1fd088fd0ebd",
      "metadata": {
        "colab": {
          "base_uri": "https://localhost:8080/"
        },
        "id": "44a6e782-b601-4fdd-be99-1fd088fd0ebd",
        "outputId": "b886ef3e-09ad-43df-9182-e2b867e7c6b1"
      },
      "outputs": [
        {
          "output_type": "stream",
          "name": "stdout",
          "text": [
            "Start: Location = A, Environment = {'A': 'Dirty', 'B': 'Clean'}\n",
            "\n",
            "Step 1\n",
            "Location: A | Status: Dirty | Action: Cleaning Action\n",
            "\n",
            "Step 2\n",
            "Location: A | Status: Clean | Action: Right\n",
            "\n",
            "Step 3\n",
            "Location: B | Status: Clean | Action: Left\n",
            "\n",
            "Step 4\n",
            "Location: A | Status: Clean | Action: Right\n",
            "\n",
            "Step 5\n",
            "Location: B | Status: Clean | Action: Left\n",
            "\n",
            "Final Environment: {'A': 'Clean', 'B': 'Clean'}\n"
          ]
        }
      ],
      "source": [
        "import random\n",
        "\n",
        "# Initialize the environment\n",
        "location = random.choice([\"A\", \"B\"])\n",
        "environment = {\n",
        "    \"A\": random.choice([\"Clean\", \"Dirty\"]),\n",
        "    \"B\": random.choice([\"Clean\", \"Dirty\"])\n",
        "}\n",
        "\n",
        "print(f\"Start: Location = {location}, Environment = {environment}\")\n",
        "\n",
        "# Sensor: reads current location and its status\n",
        "def sensor(location, environment):\n",
        "    return location, environment[location]\n",
        "\n",
        "# Reflex Agent (decision function)\n",
        "def reflex_agent(percept):\n",
        "    location, status = percept\n",
        "    if status == \"Dirty\":\n",
        "        return \"Cleaning Action\"\n",
        "    elif location == \"A\":\n",
        "        return \"Right\"\n",
        "    else:  # location == \"B\"\n",
        "        return \"Left\"\n",
        "\n",
        "# Act: perform the chosen action\n",
        "def act(action, location, environment):\n",
        "    if action == \"Cleaning Action\":\n",
        "        environment[location] = \"Clean\"\n",
        "    elif action == \"Right\":\n",
        "        location = \"B\"\n",
        "    elif action == \"Left\":\n",
        "        location = \"A\"\n",
        "    return location, environment\n",
        "\n",
        "# Run the simulation\n",
        "def run(steps=5):\n",
        "    global location, environment\n",
        "    for step in range(steps):\n",
        "        print(f\"\\nStep {step+1}\")\n",
        "        percept = sensor(location, environment)\n",
        "        action = reflex_agent(percept)\n",
        "        print(f\"Location: {percept[0]} | Status: {percept[1]} | Action: {action}\")\n",
        "        location, environment = act(action, location, environment)\n",
        "    print(\"\\nFinal Environment:\", environment)\n",
        "\n",
        "# Run agent\n",
        "run()\n"
      ]
    },
    {
      "cell_type": "markdown",
      "id": "48c5bb05-dbc7-45e1-bfc1-5a5bda8f6917",
      "metadata": {
        "id": "48c5bb05-dbc7-45e1-bfc1-5a5bda8f6917"
      },
      "source": [
        "# model based"
      ]
    },
    {
      "cell_type": "code",
      "execution_count": null,
      "id": "2cd17f31-00f9-4c0e-a218-2817694f21b6",
      "metadata": {
        "id": "2cd17f31-00f9-4c0e-a218-2817694f21b6",
        "outputId": "2837cb9a-a14d-435e-968f-7bace4293087"
      },
      "outputs": [
        {
          "name": "stdout",
          "output_type": "stream",
          "text": [
            "Starting Location: B\n",
            "Initial Environment: {'A': 'Clean', 'B': 'Dirty'}\n",
            "Initial Internal Model: {'A': 'Unknown', 'B': 'Unknown'}\n",
            "Step 1: Location=B | Status=Dirty | Action=Cleaning Action | Model={'A': 'Unknown', 'B': 'Dirty'}\n",
            "Step 2: Location=B | Status=Clean | Action=Left | Model={'A': 'Unknown', 'B': 'Clean'}\n",
            "Step 3: Location=A | Status=Clean | Action=NoOp | Model={'A': 'Clean', 'B': 'Clean'}\n",
            "\n",
            "Both rooms clean → Agent stops.\n",
            "\n",
            "Final Environment: {'A': 'Clean', 'B': 'Clean'}\n",
            "Final Internal Model: {'A': 'Clean', 'B': 'Clean'}\n"
          ]
        }
      ],
      "source": [
        "import random\n",
        "\n",
        "# Initialize environment\n",
        "location = random.choice([\"A\", \"B\"])\n",
        "environment = {\n",
        "    \"A\": random.choice([\"Clean\", \"Dirty\"]),\n",
        "    \"B\": random.choice([\"Clean\", \"Dirty\"])\n",
        "}\n",
        "\n",
        "# Internal model: what the agent *thinks* about the rooms\n",
        "model = {\"A\": \"Unknown\", \"B\": \"Unknown\"}\n",
        "\n",
        "print(f\"Starting Location: {location}\")\n",
        "print(f\"Initial Environment: {environment}\")\n",
        "print(f\"Initial Internal Model: {model}\")\n",
        "\n",
        "# Sensor: agent can only sense current location status\n",
        "def sensor(location, environment):\n",
        "    return location, environment[location]\n",
        "\n",
        "# Update internal model with percept\n",
        "def update_model(percept, model):\n",
        "    loc, status = percept\n",
        "    model[loc] = status\n",
        "    return model\n",
        "\n",
        "# Model-based agent decision\n",
        "def model_based_agent(percept, model):\n",
        "    location, status = percept\n",
        "    model = update_model(percept, model)\n",
        "\n",
        "    if status == \"Dirty\":\n",
        "        return \"Cleaning Action\", model\n",
        "    elif model[\"A\"] == \"Clean\" and model[\"B\"] == \"Clean\":\n",
        "        return \"NoOp\", model  # Stop if both are clean\n",
        "    elif location == \"A\":\n",
        "        return \"Right\", model\n",
        "    else:\n",
        "        return \"Left\", model\n",
        "\n",
        "# Act: perform action on environment + update model\n",
        "def act(action, location, environment, model):\n",
        "    if action == \"Cleaning Action\":\n",
        "        environment[location] = \"Clean\"\n",
        "        model[location] = \"Clean\"\n",
        "    elif action == \"Right\":\n",
        "        location = \"B\"\n",
        "    elif action == \"Left\":\n",
        "        location = \"A\"\n",
        "    return location, environment, model\n",
        "\n",
        "# Run simulation\n",
        "def run(steps=5):\n",
        "    global location, environment, model\n",
        "    for step in range(steps):\n",
        "        percept = sensor(location, environment)\n",
        "        action, model = model_based_agent(percept, model)\n",
        "\n",
        "        print(f\"Step {step+1}: Location={percept[0]} | Status={percept[1]} \"\n",
        "              f\"| Action={action} | Model={model}\")\n",
        "\n",
        "        location, environment, model = act(action, location, environment, model)\n",
        "\n",
        "        if action == \"NoOp\":\n",
        "            print(\"\\nBoth rooms clean → Agent stops.\")\n",
        "            break\n",
        "\n",
        "    print(\"\\nFinal Environment:\", environment)\n",
        "    print(\"Final Internal Model:\", model)\n",
        "\n",
        "# Run agent\n",
        "run()\n"
      ]
    },
    {
      "cell_type": "markdown",
      "id": "4cb0269f-464f-4283-82eb-8bcb05848aef",
      "metadata": {
        "id": "4cb0269f-464f-4283-82eb-8bcb05848aef"
      },
      "source": [
        "# Goal based"
      ]
    },
    {
      "cell_type": "code",
      "execution_count": null,
      "id": "c9f040f0-9108-412f-8d94-2a9330aa5613",
      "metadata": {
        "id": "c9f040f0-9108-412f-8d94-2a9330aa5613",
        "outputId": "77e40823-82ad-4413-c35a-e36a634f5aeb"
      },
      "outputs": [
        {
          "name": "stdout",
          "output_type": "stream",
          "text": [
            "My goal is (2, 2). Currently at (0, 0). I choose (0, 1).\n",
            "Step 1: moved to (0, 1)\n",
            "\n",
            "My goal is (2, 2). Currently at (0, 1). I choose (0, 1).\n",
            "Step 2: moved to (0, 2)\n",
            "\n",
            "My goal is (2, 2). Currently at (0, 2). I choose (1, 0).\n",
            "Step 3: moved to (1, 2)\n",
            "\n",
            "My goal is (2, 2). Currently at (1, 2). I choose (1, 0).\n",
            "Step 4: moved to (2, 2)\n",
            "\n",
            " Goal reached!\n"
          ]
        }
      ],
      "source": [
        "goal = (2, 2)\n",
        "memory = []\n",
        "actions = [(0,1), (1,0), (0,-1), (-1,0)]\n",
        "\n",
        "def decide(state, actions, goal):\n",
        "    reasoning = f\"My goal is {goal}. Currently at {state}.\"\n",
        "\n",
        "\n",
        "\n",
        "    best_action = None\n",
        "    best_distance = float(\"inf\")\n",
        "\n",
        "    for a in actions:\n",
        "        new_state = (state[0] + a[0], state[1] + a[1])\n",
        "        distance = abs(new_state[0] - goal[0]) + abs(new_state[1] - goal[1])\n",
        "\n",
        "        if distance < best_distance:\n",
        "            best_distance = distance\n",
        "            best_action = a\n",
        "\n",
        "    reasoning += f\" I choose {best_action}.\"\n",
        "\n",
        "    print(reasoning)\n",
        "    return best_action\n",
        "\n",
        "state = (0, 0)\n",
        "\n",
        "for step in range(6):\n",
        "    action = decide(state, actions, goal)\n",
        "    state = (state[0] + action[0], state[1] + action[1])\n",
        "    print(f\"Step {step+1}: moved to {state}\\n\")\n",
        "\n",
        "    if state == goal:\n",
        "        print(\" Goal reached!\")\n",
        "        break"
      ]
    },
    {
      "cell_type": "code",
      "execution_count": null,
      "id": "f11438d5-b29b-4be8-b5b0-75f30f1688d7",
      "metadata": {
        "id": "f11438d5-b29b-4be8-b5b0-75f30f1688d7",
        "outputId": "86e0dfbd-7d76-40e3-9a93-5fc213d75b26"
      },
      "outputs": [
        {
          "data": {
            "text/plain": [
              "'C:\\\\Users\\\\Admin\\\\AI_2025_Jup'"
            ]
          },
          "execution_count": 8,
          "metadata": {},
          "output_type": "execute_result"
        }
      ],
      "source": [
        "pwd"
      ]
    },
    {
      "cell_type": "code",
      "execution_count": null,
      "id": "75b542d7-3aea-43e2-8e5b-14004524f8cb",
      "metadata": {
        "id": "75b542d7-3aea-43e2-8e5b-14004524f8cb"
      },
      "outputs": [],
      "source": []
    }
  ],
  "metadata": {
    "kernelspec": {
      "display_name": "Python 3 (ipykernel)",
      "language": "python",
      "name": "python3"
    },
    "language_info": {
      "codemirror_mode": {
        "name": "ipython",
        "version": 3
      },
      "file_extension": ".py",
      "mimetype": "text/x-python",
      "name": "python",
      "nbconvert_exporter": "python",
      "pygments_lexer": "ipython3",
      "version": "3.12.9"
    },
    "colab": {
      "provenance": [],
      "include_colab_link": true
    }
  },
  "nbformat": 4,
  "nbformat_minor": 5
}